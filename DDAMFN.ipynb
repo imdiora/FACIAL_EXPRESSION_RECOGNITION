{
  "nbformat": 4,
  "nbformat_minor": 0,
  "metadata": {
    "colab": {
      "provenance": [],
      "gpuType": "T4",
      "authorship_tag": "ABX9TyOBcIY7BoTOuIv/5pivg/xr",
      "include_colab_link": true
    },
    "kernelspec": {
      "name": "python3",
      "display_name": "Python 3"
    },
    "language_info": {
      "name": "python"
    },
    "accelerator": "GPU"
  },
  "cells": [
    {
      "cell_type": "markdown",
      "metadata": {
        "id": "view-in-github",
        "colab_type": "text"
      },
      "source": [
        "<a href=\"https://colab.research.google.com/github/imdiora/FACIAL_EXPRESSION_RECOGNITION/blob/main/DDAMFN.ipynb\" target=\"_parent\"><img src=\"https://colab.research.google.com/assets/colab-badge.svg\" alt=\"Open In Colab\"/></a>"
      ]
    },
    {
      "cell_type": "code",
      "execution_count": 2,
      "metadata": {
        "id": "J5-a23_ixVlX"
      },
      "outputs": [],
      "source": [
        "!mkdir checkpoints"
      ]
    },
    {
      "cell_type": "code",
      "source": [
        "!mkdir DDAMFN++"
      ],
      "metadata": {
        "id": "TlXjsVPS0PCE"
      },
      "execution_count": null,
      "outputs": []
    },
    {
      "cell_type": "code",
      "source": [
        "!mkdir -p DDAMFN++/checkpoints_ver2.0\n",
        "!mkdir -p DDAMFN++/networks\n",
        "!mkdir -p DDAMFN++/networks/_pycache_\n",
        "!mkdir -p DDAMFN++/pretrained\n",
        "!mkdir -p DDAMFN++/Retinaface_alignment_ver2.0/data\n",
        "!mkdir -p DDAMFN++/Retinaface_alignment_ver2.0/layers\n",
        "!mkdir -p DDAMFN++/Retinaface_alignment_ver2.0/models\n",
        "!mkdir -p DDAMFN++/Retinaface_alignment_ver2.0/utils\n",
        "!mkdir -p DDAMFN++/Retinaface_alignment_ver2.0/weights"
      ],
      "metadata": {
        "id": "TlZYuNW-0Zcd"
      },
      "execution_count": 3,
      "outputs": []
    },
    {
      "cell_type": "markdown",
      "source": [],
      "metadata": {
        "id": "73HjgzScNw4I"
      }
    },
    {
      "cell_type": "code",
      "source": [],
      "metadata": {
        "id": "6yZKaBsmNYww"
      },
      "execution_count": null,
      "outputs": []
    },
    {
      "cell_type": "code",
      "source": [],
      "metadata": {
        "id": "lbjPkTvVKMjD"
      },
      "execution_count": null,
      "outputs": []
    },
    {
      "cell_type": "code",
      "source": [],
      "metadata": {
        "id": "fRqRhQT900If"
      },
      "execution_count": null,
      "outputs": []
    }
  ]
}